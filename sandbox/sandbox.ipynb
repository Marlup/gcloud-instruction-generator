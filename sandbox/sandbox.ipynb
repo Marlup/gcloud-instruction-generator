{
 "cells": [
  {
   "cell_type": "code",
   "execution_count": 3,
   "id": "10a27959",
   "metadata": {},
   "outputs": [
    {
     "data": {
      "text/plain": [
       "['b', 'z']"
      ]
     },
     "execution_count": 3,
     "metadata": {},
     "output_type": "execute_result"
    }
   ],
   "source": [
    "x = dict([(\"z\", 1), (\"b\", 2)])\n",
    "\n",
    "sorted(x.keys())"
   ]
  },
  {
   "cell_type": "code",
   "execution_count": 30,
   "id": "3cac0b6d",
   "metadata": {},
   "outputs": [
    {
     "data": {
      "text/plain": [
       "130"
      ]
     },
     "execution_count": 30,
     "metadata": {},
     "output_type": "execute_result"
    }
   ],
   "source": [
    "import requests\n",
    "from bs4 import BeautifulSoup, ResultSet, Tag  # pip install beautifulsoup4\n",
    "\n",
    "BASE_URL = \"https://cloud.google.com/sdk/gcloud/reference\"\n",
    "index_html = requests.get(BASE_URL).text\n",
    "soup = BeautifulSoup(index_html, \"html.parser\")\n",
    "\n",
    "section = soup.select_one(\"ul.devsite-nav-section\")\n",
    "items = [t.select_one(\"li a[href]\").get(\"href\") for t in section]\n",
    "len(section)\n"
   ]
  },
  {
   "cell_type": "code",
   "execution_count": null,
   "id": "20b9eace",
   "metadata": {},
   "outputs": [],
   "source": [
    "url = f\"{BASE_URL}/logging\"\n",
    "\n",
    "resp = requests.get(url)\n",
    "html = resp.text\n",
    "soup = BeautifulSoup(html, \"html.parser\")\n",
    "\n",
    "article = soup.find(\"article\") # .devsite-article"
   ]
  },
  {
   "cell_type": "code",
   "execution_count": 32,
   "id": "ee9bcef2",
   "metadata": {},
   "outputs": [],
   "source": [
    "def get_key_text(tag: Tag, css_selector):\n",
    "    if not tag:\n",
    "        return \"\"\n",
    "    return tag.select_one(css_selector) \\\n",
    "                .get_text(\"\\n\") \\\n",
    "                .split(\"\\n\")[-1]"
   ]
  },
  {
   "cell_type": "markdown",
   "id": "d0b101d6",
   "metadata": {},
   "source": [
    "SYNOPSIS"
   ]
  },
  {
   "cell_type": "code",
   "execution_count": 33,
   "id": "1e52dd3d",
   "metadata": {},
   "outputs": [
    {
     "data": {
      "text/plain": [
       "['',\n",
       " 'SYNOPSIS',\n",
       " '',\n",
       " '',\n",
       " 'gcloud logging GROUP | COMMAND [GCLOUD_WIDE_FLAG …]',\n",
       " '',\n",
       " '',\n",
       " '']"
      ]
     },
     "execution_count": 33,
     "metadata": {},
     "output_type": "execute_result"
    }
   ],
   "source": [
    "article.select_one(\"section[id='SYNOPSIS']\").get_text().split(\"\\n\")"
   ]
  },
  {
   "cell_type": "code",
   "execution_count": 34,
   "id": "8d573623",
   "metadata": {},
   "outputs": [
    {
     "data": {
      "text/plain": [
       "['SYNOPSIS',\n",
       " 'gcloud logging',\n",
       " 'GROUP',\n",
       " '',\n",
       " '',\n",
       " 'COMMAND',\n",
       " '[',\n",
       " 'GCLOUD_WIDE_FLAG',\n",
       " '…',\n",
       " ']']"
      ]
     },
     "execution_count": 34,
     "metadata": {},
     "output_type": "execute_result"
    }
   ],
   "source": [
    "article.select_one(\"section[id='SYNOPSIS']\").get_text(separator=\"|\", strip=True).split(\"|\")"
   ]
  },
  {
   "cell_type": "code",
   "execution_count": 35,
   "id": "cfc9de1f",
   "metadata": {},
   "outputs": [
    {
     "data": {
      "text/plain": [
       "['SYNOPSISgcloud loggingGROUP|COMMAND[GCLOUD_WIDE_FLAG…]']"
      ]
     },
     "execution_count": 35,
     "metadata": {},
     "output_type": "execute_result"
    }
   ],
   "source": [
    "article.select_one(\"section[id='SYNOPSIS']\").get_text(strip=True).split(\"\\n\")"
   ]
  },
  {
   "cell_type": "code",
   "execution_count": 36,
   "id": "5a46aa91",
   "metadata": {},
   "outputs": [
    {
     "data": {
      "text/plain": [
       "['',\n",
       " 'SYNOPSIS',\n",
       " '',\n",
       " '',\n",
       " 'gcloud logging GROUP | COMMAND [GCLOUD_WIDE_FLAG …]',\n",
       " '',\n",
       " '',\n",
       " '']"
      ]
     },
     "execution_count": 36,
     "metadata": {},
     "output_type": "execute_result"
    }
   ],
   "source": [
    "article.select_one(\"section[id='SYNOPSIS']\").get_text().split(\"\\n\")"
   ]
  },
  {
   "cell_type": "markdown",
   "id": "ef7061ed",
   "metadata": {},
   "source": [
    "DESCRIPTION"
   ]
  },
  {
   "cell_type": "code",
   "execution_count": 37,
   "id": "87484f2e",
   "metadata": {},
   "outputs": [
    {
     "data": {
      "text/plain": [
       "['', 'DESCRIPTION', '', 'Manage Cloud Logging.', '', '']"
      ]
     },
     "execution_count": 37,
     "metadata": {},
     "output_type": "execute_result"
    }
   ],
   "source": [
    "article.select_one(\"section[id='DESCRIPTION']\").get_text().split(\"\\n\")"
   ]
  },
  {
   "cell_type": "code",
   "execution_count": 38,
   "id": "0555c26b",
   "metadata": {},
   "outputs": [
    {
     "data": {
      "text/plain": [
       "'Manage Cloud Logging.'"
      ]
     },
     "execution_count": 38,
     "metadata": {},
     "output_type": "execute_result"
    }
   ],
   "source": [
    "parts = article.select_one(\"section[id='DESCRIPTION']\").get_text().split(\"\\n\")\n",
    "\n",
    "parts = [part for part in parts if part]\n",
    "parts[-1] # text at last element"
   ]
  },
  {
   "cell_type": "code",
   "execution_count": 16,
   "id": "cede9fbf",
   "metadata": {},
   "outputs": [
    {
     "data": {
      "text/plain": [
       "130"
      ]
     },
     "execution_count": 16,
     "metadata": {},
     "output_type": "execute_result"
    }
   ],
   "source": [
    "items = [t.select_one(\"li a[href]\").get(\"href\") for t in section[0]]\n",
    "len(items)"
   ]
  },
  {
   "cell_type": "code",
   "execution_count": null,
   "id": "5e7a3f52",
   "metadata": {},
   "outputs": [],
   "source": [
    "section = soup.select(\"ul.devsite-nav-section\")\n",
    "items = [t.select_one(\"li a[href]\").get(\"href\") for t in section[0]]\n"
   ]
  },
  {
   "cell_type": "code",
   "execution_count": 36,
   "id": "06516511",
   "metadata": {},
   "outputs": [],
   "source": [
    "article = soup.find(\"article\")\n",
    "section_dl = article.select_one(\"section[id='GLOBAL-FLAGS'] dl\")\n",
    "\n",
    "flags_dict = {}\n",
    "for dt, dd in zip(section_dl.select(\"dt\"), section_dl.select(\"dd\")):\n",
    "    flag_name = dt.get(\"id\", \"\").replace(\"-\", \"\")\n",
    "    flag_text = dd.get_text(strip=True)\n",
    "    desc_text = dd.get_text(strip=True)\n",
    "    \n",
    "    flags_dict[flag_name] = {\n",
    "        \"flag\": flag_text, \n",
    "        \"description\": desc_text\n",
    "        }\n",
    "    "
   ]
  },
  {
   "cell_type": "code",
   "execution_count": 37,
   "id": "3f04ff7f",
   "metadata": {},
   "outputs": [
    {
     "data": {
      "text/plain": [
       "{'account': {'flag': 'Google Cloud user account to use for invocation. Overrides the defaultcore/accountproperty value for this command invocation.',\n",
       "  'description': 'Google Cloud user account to use for invocation. Overrides the defaultcore/accountproperty value for this command invocation.'},\n",
       " 'billingproject': {'flag': 'The Google Cloud project that will be charged quota for operations performed ingcloud. If you need to operate on one project, but need quota\\nagainst a different project, you can use this flag to specify the billing\\nproject. If bothbilling/quota_projectand--billing-projectare specified,--billing-projecttakes precedence. Run$gcloud\\nconfig set--helpto see more information aboutbilling/quota_project.',\n",
       "  'description': 'The Google Cloud project that will be charged quota for operations performed ingcloud. If you need to operate on one project, but need quota\\nagainst a different project, you can use this flag to specify the billing\\nproject. If bothbilling/quota_projectand--billing-projectare specified,--billing-projecttakes precedence. Run$gcloud\\nconfig set--helpto see more information aboutbilling/quota_project.'},\n",
       " 'configuration': {'flag': 'File name of the configuration to use for this command invocation. For more\\ninformation on how to use configurations, run:gcloud topic\\nconfigurations. You can also use the CLOUDSDK_ACTIVE_CONFIG_NAME\\nenvironment variable to set the equivalent of this flag for a terminal session.',\n",
       "  'description': 'File name of the configuration to use for this command invocation. For more\\ninformation on how to use configurations, run:gcloud topic\\nconfigurations. You can also use the CLOUDSDK_ACTIVE_CONFIG_NAME\\nenvironment variable to set the equivalent of this flag for a terminal session.'},\n",
       " 'flagsfile': {'flag': 'A YAML or JSON file that specifies a--flag:valuedictionary. Useful for specifying complex flag values with special characters\\nthat work with any command interpreter. Additionally, each--flags-filearg is replaced by its constituent flags. See $gcloud topic flags-filefor\\nmore information.',\n",
       "  'description': 'A YAML or JSON file that specifies a--flag:valuedictionary. Useful for specifying complex flag values with special characters\\nthat work with any command interpreter. Additionally, each--flags-filearg is replaced by its constituent flags. See $gcloud topic flags-filefor\\nmore information.'},\n",
       " 'flatten': {'flag': 'Flattenname[] output resource slices inKEYinto separate records for each item in each slice.\\nMultiple keys and slices may be specified. This also flattens keys for--formatand--filter. For example,--flatten=abc.defflattensabc.def[].ghireferences toabc.def.ghi. A resource record containingabc.def[]with N elements will expand to N records in the flattened output. This allows us\\nto specify whatresource-keythefilterwill operate\\non. This flag interacts with other flags that are applied in this order:--flatten,--sort-by,--filter,--limit.',\n",
       "  'description': 'Flattenname[] output resource slices inKEYinto separate records for each item in each slice.\\nMultiple keys and slices may be specified. This also flattens keys for--formatand--filter. For example,--flatten=abc.defflattensabc.def[].ghireferences toabc.def.ghi. A resource record containingabc.def[]with N elements will expand to N records in the flattened output. This allows us\\nto specify whatresource-keythefilterwill operate\\non. This flag interacts with other flags that are applied in this order:--flatten,--sort-by,--filter,--limit.'},\n",
       " 'format': {'flag': 'Sets the format for printing command output resources. The default is a\\ncommand-specific human-friendly output format. If bothcore/formatand--formatare specified,--formattakes precedence.--formatandcore/formatboth take precedence overcore/default_format. The supported formats are limited to:config,csv,default,diff,disable,flattened,get,json,list,multi,none,object,table,text,value,yaml. For more details run $ gcloud topic formats. Run$gcloud config set--helpto\\nsee more information aboutcore/format',\n",
       "  'description': 'Sets the format for printing command output resources. The default is a\\ncommand-specific human-friendly output format. If bothcore/formatand--formatare specified,--formattakes precedence.--formatandcore/formatboth take precedence overcore/default_format. The supported formats are limited to:config,csv,default,diff,disable,flattened,get,json,list,multi,none,object,table,text,value,yaml. For more details run $ gcloud topic formats. Run$gcloud config set--helpto\\nsee more information aboutcore/format'},\n",
       " 'help': {'flag': 'Display detailed help.',\n",
       "  'description': 'Display detailed help.'},\n",
       " 'project': {'flag': \"The Google Cloud project ID to use for this invocation. If omitted, then the\\ncurrent project is assumed; the current project can be listed usinggcloud\\nconfig list --format='text(core.project)'and can be set usinggcloud config set project PROJECTID.--projectand its fallbackcore/projectproperty play\\ntwo roles in the invocation. It specifies the project of the resource to operate\\non. It also specifies the project for API enablement check, quota, and billing.\\nTo specify a different project for quota and billing, use--billing-projectorbilling/quota_projectproperty.\",\n",
       "  'description': \"The Google Cloud project ID to use for this invocation. If omitted, then the\\ncurrent project is assumed; the current project can be listed usinggcloud\\nconfig list --format='text(core.project)'and can be set usinggcloud config set project PROJECTID.--projectand its fallbackcore/projectproperty play\\ntwo roles in the invocation. It specifies the project of the resource to operate\\non. It also specifies the project for API enablement check, quota, and billing.\\nTo specify a different project for quota and billing, use--billing-projectorbilling/quota_projectproperty.\"},\n",
       " 'quiet': {'flag': 'Disable all interactive prompts when runninggcloudcommands. If\\ninput is required, defaults will be used, or an error will be raised.Overrides the default core/disable_prompts property value for this command\\ninvocation. This is equivalent to setting the environment variableCLOUDSDK_CORE_DISABLE_PROMPTSto 1.',\n",
       "  'description': 'Disable all interactive prompts when runninggcloudcommands. If\\ninput is required, defaults will be used, or an error will be raised.Overrides the default core/disable_prompts property value for this command\\ninvocation. This is equivalent to setting the environment variableCLOUDSDK_CORE_DISABLE_PROMPTSto 1.'},\n",
       " 'verbosity': {'flag': 'Override the default verbosity for this command. Overrides the defaultcore/verbosityproperty value for this command invocation.VERBOSITYmust be one of:debug,info,warning,error,critical,none.',\n",
       "  'description': 'Override the default verbosity for this command. Overrides the defaultcore/verbosityproperty value for this command invocation.VERBOSITYmust be one of:debug,info,warning,error,critical,none.'},\n",
       " 'version': {'flag': 'Print version information and exit. This flag is only available at the global\\nlevel.',\n",
       "  'description': 'Print version information and exit. This flag is only available at the global\\nlevel.'},\n",
       " 'h': {'flag': 'Print a summary help and exit.',\n",
       "  'description': 'Print a summary help and exit.'}}"
      ]
     },
     "execution_count": 37,
     "metadata": {},
     "output_type": "execute_result"
    }
   ],
   "source": [
    "flags_dict"
   ]
  },
  {
   "cell_type": "code",
   "execution_count": 35,
   "id": "ce3c8089",
   "metadata": {},
   "outputs": [
    {
     "name": "stdout",
     "output_type": "stream",
     "text": [
      "account --account=ACCOUNT\n",
      "billingproject --billing-project=BILLING_PROJECT\n",
      "configuration --configuration=CONFIGURATION\n",
      "flagsfile --flags-file=YAML_FILE\n",
      "flatten --flatten=[KEY,…]\n",
      "format --format=FORMAT\n",
      "help --help\n",
      "project --project=PROJECT_ID\n",
      "quiet --quiet,-q\n",
      "verbosity --verbosity=VERBOSITY; default=\"warning\"\n",
      "version --version,-v\n",
      "h -h\n"
     ]
    }
   ],
   "source": [
    "for t in section_dl.select(\"dt\"):\n",
    "    print(t.get(\"id\", \"\").replace(\"-\", \"\"), t.get_text(strip=True))"
   ]
  },
  {
   "cell_type": "code",
   "execution_count": 28,
   "id": "9e8045dc",
   "metadata": {},
   "outputs": [
    {
     "name": "stdout",
     "output_type": "stream",
     "text": [
      "Google Cloud user account to use for invocation. Overrides the defaultcore/accountproperty value for this command invocation.\n",
      "\n",
      "--------------------------------\n",
      "The Google Cloud project that will be charged quota for operations performed ingcloud. If you need to operate on one project, but need quota\n",
      "against a different project, you can use this flag to specify the billing\n",
      "project. If bothbilling/quota_projectand--billing-projectare specified,--billing-projecttakes precedence. Run$gcloud\n",
      "config set--helpto see more information aboutbilling/quota_project.\n",
      "\n",
      "--------------------------------\n",
      "File name of the configuration to use for this command invocation. For more\n",
      "information on how to use configurations, run:gcloud topic\n",
      "configurations. You can also use the CLOUDSDK_ACTIVE_CONFIG_NAME\n",
      "environment variable to set the equivalent of this flag for a terminal session.\n",
      "\n",
      "--------------------------------\n",
      "A YAML or JSON file that specifies a--flag:valuedictionary. Useful for specifying complex flag values with special characters\n",
      "that work with any command interpreter. Additionally, each--flags-filearg is replaced by its constituent flags. See $gcloud topic flags-filefor\n",
      "more information.\n",
      "\n",
      "--------------------------------\n",
      "Flattenname[] output resource slices inKEYinto separate records for each item in each slice.\n",
      "Multiple keys and slices may be specified. This also flattens keys for--formatand--filter. For example,--flatten=abc.defflattensabc.def[].ghireferences toabc.def.ghi. A resource record containingabc.def[]with N elements will expand to N records in the flattened output. This allows us\n",
      "to specify whatresource-keythefilterwill operate\n",
      "on. This flag interacts with other flags that are applied in this order:--flatten,--sort-by,--filter,--limit.\n",
      "\n",
      "--------------------------------\n",
      "Sets the format for printing command output resources. The default is a\n",
      "command-specific human-friendly output format. If bothcore/formatand--formatare specified,--formattakes precedence.--formatandcore/formatboth take precedence overcore/default_format. The supported formats are limited to:config,csv,default,diff,disable,flattened,get,json,list,multi,none,object,table,text,value,yaml. For more details run $ gcloud topic formats. Run$gcloud config set--helpto\n",
      "see more information aboutcore/format\n",
      "\n",
      "--------------------------------\n",
      "Display detailed help.\n",
      "\n",
      "--------------------------------\n",
      "The Google Cloud project ID to use for this invocation. If omitted, then the\n",
      "current project is assumed; the current project can be listed usinggcloud\n",
      "config list --format='text(core.project)'and can be set usinggcloud config set project PROJECTID.--projectand its fallbackcore/projectproperty play\n",
      "two roles in the invocation. It specifies the project of the resource to operate\n",
      "on. It also specifies the project for API enablement check, quota, and billing.\n",
      "To specify a different project for quota and billing, use--billing-projectorbilling/quota_projectproperty.\n",
      "\n",
      "--------------------------------\n",
      "Disable all interactive prompts when runninggcloudcommands. If\n",
      "input is required, defaults will be used, or an error will be raised.Overrides the default core/disable_prompts property value for this command\n",
      "invocation. This is equivalent to setting the environment variableCLOUDSDK_CORE_DISABLE_PROMPTSto 1.\n",
      "\n",
      "--------------------------------\n",
      "Override the default verbosity for this command. Overrides the defaultcore/verbosityproperty value for this command invocation.VERBOSITYmust be one of:debug,info,warning,error,critical,none.\n",
      "\n",
      "--------------------------------\n",
      "Print version information and exit. This flag is only available at the global\n",
      "level.\n",
      "\n",
      "--------------------------------\n",
      "Print a summary help and exit.\n",
      "\n",
      "--------------------------------\n"
     ]
    }
   ],
   "source": [
    "for t in section_dl.select(\"dd\"):\n",
    "    print(t.get_text(strip=True))\n",
    "    print(\"\\n--------------------------------\")"
   ]
  },
  {
   "cell_type": "code",
   "execution_count": null,
   "id": "f6f8da75",
   "metadata": {},
   "outputs": [],
   "source": []
  }
 ],
 "metadata": {
  "kernelspec": {
   "display_name": "venv",
   "language": "python",
   "name": "python3"
  },
  "language_info": {
   "codemirror_mode": {
    "name": "ipython",
    "version": 3
   },
   "file_extension": ".py",
   "mimetype": "text/x-python",
   "name": "python",
   "nbconvert_exporter": "python",
   "pygments_lexer": "ipython3",
   "version": "3.13.7"
  }
 },
 "nbformat": 4,
 "nbformat_minor": 5
}
